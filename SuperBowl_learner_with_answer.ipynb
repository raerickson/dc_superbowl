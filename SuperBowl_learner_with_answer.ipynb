{
 "cells": [
  {
   "cell_type": "markdown",
   "id": "edb2508f-acb8-4265-bdc0-7891117bd948",
   "metadata": {},
   "source": [
    "# Studying the Two Running Games in Super Bowl LVII"
   ]
  },
  {
   "cell_type": "markdown",
   "id": "71f35ee1-b738-4ace-8a0d-270ff6e5a82f",
   "metadata": {},
   "source": [
    "Every February millions of people, both inside and outside of North America, tune into the National Football League's Super Bowl, which crowns the world champion in American football.\n",
    "In football there are two ways to advance the football while on offense; running and passing.\n",
    "During this training, you will learn how to use data to see which players to watch out for during Super Bowl LVII in the running game, the more unheralded aspect of a football game.\n",
    "We will show you how to obtain NFL play-by-play data in Python and then use exploratory data analysis and linear models to show which players will be the ones to watch during Super Bowl LVII. "
   ]
  },
  {
   "cell_type": "markdown",
   "id": "54b79adf-852f-4ff4-b0f2-0e06af9156ee",
   "metadata": {},
   "source": [
    "### Obtaining data and loading packages\n",
    "\n",
    "While we use Python in this tutorial, the `nflfastR` play-by-play datatset was developed initially in R, and the package's [help page](https://www.nflfastr.com/articles/field_descriptions.html) that gives the best description of the metadata.\n",
    "You can obtain data for any year using `import_pbp_data()` from the `nfl_data_py` package and we included this code commented out for your future reference.\n",
    "However, we pre-stage the data for this live training as a csv file to optimize your learning experience.\n",
    "\n",
    "First, load the required python packages.\n",
    "Use `pandas` (alias `pd`) and `numpy` (alias `np`) for data.\n",
    "Use `seaborn` (alias `sns`) and `matplotlib.pyplot` (alias `plt`) for plotting.\n",
    "Use `statsmodels.formula.api` alias `smf` for linear models."
   ]
  },
  {
   "cell_type": "code",
   "execution_count": 1,
   "id": "1c978071-d6a2-4e4c-9cf6-4652ac7eea27",
   "metadata": {},
   "outputs": [],
   "source": [
    "# impoport required packages\n",
    "import pandas as pd\n",
    "import numpy as np\n",
    "import seaborn as sns\n",
    "import matplotlib.pyplot as plt\n",
    "import statsmodels.formula.api as smf"
   ]
  },
  {
   "cell_type": "markdown",
   "id": "67df76e6",
   "metadata": {},
   "source": [
    "**Note:** If you wanted to import the data for other seasons, you could use the code Eric and Richard used to obtain the original data:\n",
    "\n",
    "```python\n",
    "# code we used to obtain data\n",
    "import nfl_data_py as nfl\n",
    "pbp = nfl.import_pbp_data([2022])\n",
    "# we only selected the columns we needed for today\n",
    "pbp[['play_type', 'posteam', 'rushing_yards', 'rusher_id',\n",
    "     'rusher_player_id', 'rusher_player_name', 'ydstogo', 'down',\n",
    "     'yardline_100', 'run_location', 'score_differential',\n",
    "     'game_seconds_remaining']].to_csv(\"pbp_2022.csv\", index=False)\n",
    "```\n",
    "\n",
    "Now, you can load the _play-by-play_ (_pbp_, Python object `pbp`) data you'll use today using `pd.read_csv()` with `pbp_2022.csv`:"
   ]
  },
  {
   "cell_type": "code",
   "execution_count": 4,
   "id": "90776507-c93a-43b0-9b25-d02bb7faffda",
   "metadata": {},
   "outputs": [],
   "source": [
    "# load play-by-play data \n",
    "pbp = pd.read_csv('./pbp_2022.csv')"
   ]
  },
  {
   "cell_type": "markdown",
   "id": "13f745ea-0e4f-4274-9dd1-1b026ed31ccd",
   "metadata": {},
   "source": [
    "Next, peak at the top of `pbp` using the `.head()`"
   ]
  },
  {
   "cell_type": "code",
   "execution_count": 6,
   "id": "6bf9c502-5836-4212-8a46-30382c9c2126",
   "metadata": {},
   "outputs": [
    {
     "data": {
      "text/html": [
       "<div>\n",
       "<style scoped>\n",
       "    .dataframe tbody tr th:only-of-type {\n",
       "        vertical-align: middle;\n",
       "    }\n",
       "\n",
       "    .dataframe tbody tr th {\n",
       "        vertical-align: top;\n",
       "    }\n",
       "\n",
       "    .dataframe thead th {\n",
       "        text-align: right;\n",
       "    }\n",
       "</style>\n",
       "<table border=\"1\" class=\"dataframe\">\n",
       "  <thead>\n",
       "    <tr style=\"text-align: right;\">\n",
       "      <th></th>\n",
       "      <th>play_type</th>\n",
       "      <th>posteam</th>\n",
       "      <th>rushing_yards</th>\n",
       "      <th>rusher_id</th>\n",
       "      <th>rusher_player_id</th>\n",
       "      <th>rusher_player_name</th>\n",
       "      <th>ydstogo</th>\n",
       "      <th>down</th>\n",
       "      <th>yardline_100</th>\n",
       "      <th>run_location</th>\n",
       "      <th>score_differential</th>\n",
       "      <th>game_seconds_remaining</th>\n",
       "    </tr>\n",
       "  </thead>\n",
       "  <tbody>\n",
       "    <tr>\n",
       "      <th>0</th>\n",
       "      <td>NaN</td>\n",
       "      <td>NaN</td>\n",
       "      <td>NaN</td>\n",
       "      <td>NaN</td>\n",
       "      <td>NaN</td>\n",
       "      <td>NaN</td>\n",
       "      <td>0.0</td>\n",
       "      <td>NaN</td>\n",
       "      <td>NaN</td>\n",
       "      <td>NaN</td>\n",
       "      <td>NaN</td>\n",
       "      <td>3600.0</td>\n",
       "    </tr>\n",
       "    <tr>\n",
       "      <th>1</th>\n",
       "      <td>kickoff</td>\n",
       "      <td>NYJ</td>\n",
       "      <td>NaN</td>\n",
       "      <td>NaN</td>\n",
       "      <td>NaN</td>\n",
       "      <td>NaN</td>\n",
       "      <td>0.0</td>\n",
       "      <td>NaN</td>\n",
       "      <td>35.0</td>\n",
       "      <td>NaN</td>\n",
       "      <td>0.0</td>\n",
       "      <td>3600.0</td>\n",
       "    </tr>\n",
       "    <tr>\n",
       "      <th>2</th>\n",
       "      <td>run</td>\n",
       "      <td>NYJ</td>\n",
       "      <td>19.0</td>\n",
       "      <td>00-0036924</td>\n",
       "      <td>00-0036924</td>\n",
       "      <td>Mi.Carter</td>\n",
       "      <td>10.0</td>\n",
       "      <td>1.0</td>\n",
       "      <td>78.0</td>\n",
       "      <td>left</td>\n",
       "      <td>0.0</td>\n",
       "      <td>3596.0</td>\n",
       "    </tr>\n",
       "    <tr>\n",
       "      <th>3</th>\n",
       "      <td>pass</td>\n",
       "      <td>NYJ</td>\n",
       "      <td>NaN</td>\n",
       "      <td>NaN</td>\n",
       "      <td>NaN</td>\n",
       "      <td>NaN</td>\n",
       "      <td>10.0</td>\n",
       "      <td>1.0</td>\n",
       "      <td>59.0</td>\n",
       "      <td>NaN</td>\n",
       "      <td>0.0</td>\n",
       "      <td>3569.0</td>\n",
       "    </tr>\n",
       "    <tr>\n",
       "      <th>4</th>\n",
       "      <td>run</td>\n",
       "      <td>NYJ</td>\n",
       "      <td>5.0</td>\n",
       "      <td>00-0036924</td>\n",
       "      <td>00-0036924</td>\n",
       "      <td>Mi.Carter</td>\n",
       "      <td>10.0</td>\n",
       "      <td>2.0</td>\n",
       "      <td>59.0</td>\n",
       "      <td>left</td>\n",
       "      <td>0.0</td>\n",
       "      <td>3565.0</td>\n",
       "    </tr>\n",
       "  </tbody>\n",
       "</table>\n",
       "</div>"
      ],
      "text/plain": [
       "  play_type posteam  rushing_yards   rusher_id rusher_player_id  \\\n",
       "0       NaN     NaN            NaN         NaN              NaN   \n",
       "1   kickoff     NYJ            NaN         NaN              NaN   \n",
       "2       run     NYJ           19.0  00-0036924       00-0036924   \n",
       "3      pass     NYJ            NaN         NaN              NaN   \n",
       "4       run     NYJ            5.0  00-0036924       00-0036924   \n",
       "\n",
       "  rusher_player_name  ydstogo  down  yardline_100 run_location  \\\n",
       "0                NaN      0.0   NaN           NaN          NaN   \n",
       "1                NaN      0.0   NaN          35.0          NaN   \n",
       "2          Mi.Carter     10.0   1.0          78.0         left   \n",
       "3                NaN     10.0   1.0          59.0          NaN   \n",
       "4          Mi.Carter     10.0   2.0          59.0         left   \n",
       "\n",
       "   score_differential  game_seconds_remaining  \n",
       "0                 NaN                  3600.0  \n",
       "1                 0.0                  3600.0  \n",
       "2                 0.0                  3596.0  \n",
       "3                 0.0                  3569.0  \n",
       "4                 0.0                  3565.0  "
      ]
     },
     "execution_count": 6,
     "metadata": {},
     "output_type": "execute_result"
    }
   ],
   "source": [
    "# peak at head of pbp data\n",
    "pbp.head()"
   ]
  },
  {
   "cell_type": "markdown",
   "id": "2cf31ec2-90fb-4ef1-a675-8baffa355251",
   "metadata": {},
   "source": [
    "## Filtering Data to Rushing Plays\n",
    "\n",
    "First, the `pbp` data needs to be filtered cleaned.\n",
    "Use `query()` to preform the following:\n",
    "\n",
    "* Save the new data frame as `pbp_run` because this is only the run play-by-play (_pbp_) data\n",
    "* Filter (or, in `pandas` lingo, `query()`) to rushing plays with `play_type == \"run\"`\n",
    "* Remove missing values for rushing_yards using `rushing_yards.notnull()`\n",
    "* Remove missing values for rusher_id `rusher_id.notnull()`\n",
    "* Rest the data frame's index, and \n",
    "* Look at the header of the data frame\n",
    "\n",
    "Remember, use `&` to merge multiple filter criteria.\n",
    "After filtering, look at the `head()` of the data:"
   ]
  },
  {
   "cell_type": "code",
   "execution_count": 8,
   "id": "ae1b04c6-6e61-4ecb-af97-0d3f328fb3b1",
   "metadata": {},
   "outputs": [
    {
     "data": {
      "text/html": [
       "<div>\n",
       "<style scoped>\n",
       "    .dataframe tbody tr th:only-of-type {\n",
       "        vertical-align: middle;\n",
       "    }\n",
       "\n",
       "    .dataframe tbody tr th {\n",
       "        vertical-align: top;\n",
       "    }\n",
       "\n",
       "    .dataframe thead th {\n",
       "        text-align: right;\n",
       "    }\n",
       "</style>\n",
       "<table border=\"1\" class=\"dataframe\">\n",
       "  <thead>\n",
       "    <tr style=\"text-align: right;\">\n",
       "      <th></th>\n",
       "      <th>index</th>\n",
       "      <th>play_type</th>\n",
       "      <th>posteam</th>\n",
       "      <th>rushing_yards</th>\n",
       "      <th>rusher_id</th>\n",
       "      <th>rusher_player_id</th>\n",
       "      <th>rusher_player_name</th>\n",
       "      <th>ydstogo</th>\n",
       "      <th>down</th>\n",
       "      <th>yardline_100</th>\n",
       "      <th>run_location</th>\n",
       "      <th>score_differential</th>\n",
       "      <th>game_seconds_remaining</th>\n",
       "    </tr>\n",
       "  </thead>\n",
       "  <tbody>\n",
       "    <tr>\n",
       "      <th>0</th>\n",
       "      <td>2</td>\n",
       "      <td>run</td>\n",
       "      <td>NYJ</td>\n",
       "      <td>19.0</td>\n",
       "      <td>00-0036924</td>\n",
       "      <td>00-0036924</td>\n",
       "      <td>Mi.Carter</td>\n",
       "      <td>10.0</td>\n",
       "      <td>1.0</td>\n",
       "      <td>78.0</td>\n",
       "      <td>left</td>\n",
       "      <td>0.0</td>\n",
       "      <td>3596.0</td>\n",
       "    </tr>\n",
       "    <tr>\n",
       "      <th>1</th>\n",
       "      <td>4</td>\n",
       "      <td>run</td>\n",
       "      <td>NYJ</td>\n",
       "      <td>5.0</td>\n",
       "      <td>00-0036924</td>\n",
       "      <td>00-0036924</td>\n",
       "      <td>Mi.Carter</td>\n",
       "      <td>10.0</td>\n",
       "      <td>2.0</td>\n",
       "      <td>59.0</td>\n",
       "      <td>left</td>\n",
       "      <td>0.0</td>\n",
       "      <td>3565.0</td>\n",
       "    </tr>\n",
       "    <tr>\n",
       "      <th>2</th>\n",
       "      <td>9</td>\n",
       "      <td>run</td>\n",
       "      <td>BAL</td>\n",
       "      <td>4.0</td>\n",
       "      <td>00-0034796</td>\n",
       "      <td>00-0034796</td>\n",
       "      <td>L.Jackson</td>\n",
       "      <td>2.0</td>\n",
       "      <td>3.0</td>\n",
       "      <td>64.0</td>\n",
       "      <td>right</td>\n",
       "      <td>0.0</td>\n",
       "      <td>3461.0</td>\n",
       "    </tr>\n",
       "    <tr>\n",
       "      <th>3</th>\n",
       "      <td>10</td>\n",
       "      <td>run</td>\n",
       "      <td>BAL</td>\n",
       "      <td>0.0</td>\n",
       "      <td>00-0033118</td>\n",
       "      <td>00-0033118</td>\n",
       "      <td>K.Drake</td>\n",
       "      <td>10.0</td>\n",
       "      <td>1.0</td>\n",
       "      <td>60.0</td>\n",
       "      <td>right</td>\n",
       "      <td>0.0</td>\n",
       "      <td>3421.0</td>\n",
       "    </tr>\n",
       "    <tr>\n",
       "      <th>4</th>\n",
       "      <td>12</td>\n",
       "      <td>run</td>\n",
       "      <td>BAL</td>\n",
       "      <td>1.0</td>\n",
       "      <td>00-0033118</td>\n",
       "      <td>00-0033118</td>\n",
       "      <td>K.Drake</td>\n",
       "      <td>2.0</td>\n",
       "      <td>3.0</td>\n",
       "      <td>52.0</td>\n",
       "      <td>right</td>\n",
       "      <td>0.0</td>\n",
       "      <td>3340.0</td>\n",
       "    </tr>\n",
       "  </tbody>\n",
       "</table>\n",
       "</div>"
      ],
      "text/plain": [
       "   index play_type posteam  rushing_yards   rusher_id rusher_player_id  \\\n",
       "0      2       run     NYJ           19.0  00-0036924       00-0036924   \n",
       "1      4       run     NYJ            5.0  00-0036924       00-0036924   \n",
       "2      9       run     BAL            4.0  00-0034796       00-0034796   \n",
       "3     10       run     BAL            0.0  00-0033118       00-0033118   \n",
       "4     12       run     BAL            1.0  00-0033118       00-0033118   \n",
       "\n",
       "  rusher_player_name  ydstogo  down  yardline_100 run_location  \\\n",
       "0          Mi.Carter     10.0   1.0          78.0         left   \n",
       "1          Mi.Carter     10.0   2.0          59.0         left   \n",
       "2          L.Jackson      2.0   3.0          64.0        right   \n",
       "3            K.Drake     10.0   1.0          60.0        right   \n",
       "4            K.Drake      2.0   3.0          52.0        right   \n",
       "\n",
       "   score_differential  game_seconds_remaining  \n",
       "0                 0.0                  3596.0  \n",
       "1                 0.0                  3565.0  \n",
       "2                 0.0                  3461.0  \n",
       "3                 0.0                  3421.0  \n",
       "4                 0.0                  3340.0  "
      ]
     },
     "execution_count": 8,
     "metadata": {},
     "output_type": "execute_result"
    }
   ],
   "source": [
    "# query pbp\n",
    "pbp_run = pbp.query('play_type == \"run\" & rushing_yards.notnull() & rusher_id.notnull()').reset_index()\n",
    "\n",
    "# peak at head of data\n",
    "pbp_run.head()"
   ]
  },
  {
   "cell_type": "markdown",
   "id": "a47bf109-efdc-4f86-97b6-98f8f351cc97",
   "metadata": {},
   "source": [
    "## Who Are the Best Rushers in Sunday's Game?\n",
    "\n",
    "Next, you will examine which players are the best at rushing the football for the players will be in the game on Sunday.\n",
    "First, select the data for the two teams in the Super Bowl, the Philadelphia Eagles (`PHI`) and the Kansas City Chiefs (`KC`) using the `isin` function from `pandas` with the Team of Possession (which team has the ball; `posteam`) column. To this,\n",
    "\n",
    "1. Create a list of Super Bowl teams, `sb_teams`\n",
    "2. Use the `.loc` command with `pbp_run` and the `.isin()` function on `posteam` column (**Hint:**, this looks like `pbp_run['posteam'].isin(sb_teams)`).\n",
    "3. `reset_index()` on the new data frame\n",
    "4. Save the outputs as `pbp_run_sb`"
   ]
  },
  {
   "cell_type": "code",
   "execution_count": 14,
   "id": "f6113b42-ca94-4422-b16d-a42bc6ff0575",
   "metadata": {},
   "outputs": [],
   "source": [
    "# create a list of teams in the Super Bowl\n",
    "sb_teams = ['KC', 'PHI']\n",
    "\n",
    "# Filter out only the Super Bowl teams using `isin()`\n",
    "pbp_run_sb = pbp_run.loc[pbp_run['posteam'].isin(sb_teams)]"
   ]
  },
  {
   "cell_type": "markdown",
   "id": "4c81d280-aa7b-4da6-9e2d-d22cd68bc834",
   "metadata": {},
   "source": [
    "Next, check the data to make sure it is correct and you only have these two teams by using the `posteam` column and looking for the `unique()` values in the column:"
   ]
  },
  {
   "cell_type": "code",
   "execution_count": 15,
   "id": "d13cb5b0-2464-4730-92ec-7bcdd5ba2e4b",
   "metadata": {},
   "outputs": [
    {
     "data": {
      "text/plain": [
       "array(['KC', 'PHI'], dtype=object)"
      ]
     },
     "execution_count": 15,
     "metadata": {},
     "output_type": "execute_result"
    }
   ],
   "source": [
    "# Look at the unique posteam values in `pbp_run_sb`\n",
    "pbp_run_sb.posteam.unique()"
   ]
  },
  {
   "cell_type": "markdown",
   "id": "93125174-69bc-4c48-91fa-a6e6316f3f87",
   "metadata": {},
   "source": [
    "Now, you can aggregate over the whole season for each player's rushing yards (sum of `rushing_yards`) and yards-per-carry (mean of `rushing yards`).\n",
    "For this, \"group by\" the `posteam` so we know which team the player belongs to, and both `rusher_player_id` and `rusher_player_name` because some players have the same name.\n",
    "Save this operation as `pbp_run_sb_yards`:"
   ]
  },
  {
   "cell_type": "code",
   "execution_count": 18,
   "id": "c4899363-b54d-4f89-a053-c5a09810f78b",
   "metadata": {},
   "outputs": [],
   "source": [
    "# 1. use pbp_run_sb\n",
    "# 2. groupby [\"posteam\", \"rusher_player_id\", \"rusher_player_name\"]\n",
    "# 3. then aggregate `{\"rushing_yards\": [\"sum\", \"mean\", \"count\"]}`\n",
    "# 4. save ouput as pbp_run_sb_yards\n",
    "pbp_run_sb_yards = \\\n",
    "    pbp_run_sb.groupby(\n",
    "    [\"posteam\", \"rusher_player_id\", \"rusher_player_name\"]\n",
    "    ).agg({\"rushing_yards\": [\"sum\", \"mean\", \"count\"]})\n"
   ]
  },
  {
   "cell_type": "markdown",
   "id": "093c5ac2-28ed-4598-a33a-3dd7cce8cde0",
   "metadata": {},
   "source": [
    "Next, get the `pbp_run_sb_yards` data ready to examine with two steps:\n",
    "    \n",
    "1. Filer using `.loc[]` with `pbp_run_sb_yards[('rushing_yards', 'count')] > 20` to look at only players with more than 20 rushing plays\n",
    "2. Sort by the player's total rushing yards (`('rushing_yards', 'sum')`) with `ascending=[False]` to help us see who had the most yards"
   ]
  },
  {
   "cell_type": "code",
   "execution_count": 22,
   "id": "4f3ac198-6481-4d2b-8e08-b77ef199ced3",
   "metadata": {},
   "outputs": [
    {
     "data": {
      "text/html": [
       "<div>\n",
       "<style scoped>\n",
       "    .dataframe tbody tr th:only-of-type {\n",
       "        vertical-align: middle;\n",
       "    }\n",
       "\n",
       "    .dataframe tbody tr th {\n",
       "        vertical-align: top;\n",
       "    }\n",
       "\n",
       "    .dataframe thead tr th {\n",
       "        text-align: left;\n",
       "    }\n",
       "\n",
       "    .dataframe thead tr:last-of-type th {\n",
       "        text-align: right;\n",
       "    }\n",
       "</style>\n",
       "<table border=\"1\" class=\"dataframe\">\n",
       "  <thead>\n",
       "    <tr>\n",
       "      <th></th>\n",
       "      <th></th>\n",
       "      <th></th>\n",
       "      <th colspan=\"3\" halign=\"left\">rushing_yards</th>\n",
       "    </tr>\n",
       "    <tr>\n",
       "      <th></th>\n",
       "      <th></th>\n",
       "      <th></th>\n",
       "      <th>sum</th>\n",
       "      <th>mean</th>\n",
       "      <th>count</th>\n",
       "    </tr>\n",
       "    <tr>\n",
       "      <th>posteam</th>\n",
       "      <th>rusher_player_id</th>\n",
       "      <th>rusher_player_name</th>\n",
       "      <th></th>\n",
       "      <th></th>\n",
       "      <th></th>\n",
       "    </tr>\n",
       "  </thead>\n",
       "  <tbody>\n",
       "    <tr>\n",
       "      <th>PHI</th>\n",
       "      <th>00-0035243</th>\n",
       "      <th>M.Sanders</th>\n",
       "      <td>1401.0</td>\n",
       "      <td>4.881533</td>\n",
       "      <td>287</td>\n",
       "    </tr>\n",
       "    <tr>\n",
       "      <th>KC</th>\n",
       "      <th>00-0037197</th>\n",
       "      <th>I.Pacheco</th>\n",
       "      <td>951.0</td>\n",
       "      <td>4.953125</td>\n",
       "      <td>192</td>\n",
       "    </tr>\n",
       "    <tr>\n",
       "      <th rowspan=\"2\" valign=\"top\">PHI</th>\n",
       "      <th>00-0036389</th>\n",
       "      <th>J.Hurts</th>\n",
       "      <td>521.0</td>\n",
       "      <td>4.378151</td>\n",
       "      <td>119</td>\n",
       "    </tr>\n",
       "    <tr>\n",
       "      <th>00-0036919</th>\n",
       "      <th>K.Gainwell</th>\n",
       "      <td>400.0</td>\n",
       "      <td>5.063291</td>\n",
       "      <td>79</td>\n",
       "    </tr>\n",
       "    <tr>\n",
       "      <th rowspan=\"2\" valign=\"top\">KC</th>\n",
       "      <th>00-0031376</th>\n",
       "      <th>J.McKinnon</th>\n",
       "      <td>317.0</td>\n",
       "      <td>3.643678</td>\n",
       "      <td>87</td>\n",
       "    </tr>\n",
       "    <tr>\n",
       "      <th>00-0036360</th>\n",
       "      <th>C.Edwards-Helaire</th>\n",
       "      <td>302.0</td>\n",
       "      <td>4.253521</td>\n",
       "      <td>71</td>\n",
       "    </tr>\n",
       "    <tr>\n",
       "      <th>PHI</th>\n",
       "      <th>00-0034414</th>\n",
       "      <th>B.Scott</th>\n",
       "      <td>270.0</td>\n",
       "      <td>4.090909</td>\n",
       "      <td>66</td>\n",
       "    </tr>\n",
       "  </tbody>\n",
       "</table>\n",
       "</div>"
      ],
      "text/plain": [
       "                                            rushing_yards                \n",
       "                                                      sum      mean count\n",
       "posteam rusher_player_id rusher_player_name                              \n",
       "PHI     00-0035243       M.Sanders                 1401.0  4.881533   287\n",
       "KC      00-0037197       I.Pacheco                  951.0  4.953125   192\n",
       "PHI     00-0036389       J.Hurts                    521.0  4.378151   119\n",
       "        00-0036919       K.Gainwell                 400.0  5.063291    79\n",
       "KC      00-0031376       J.McKinnon                 317.0  3.643678    87\n",
       "        00-0036360       C.Edwards-Helaire          302.0  4.253521    71\n",
       "PHI     00-0034414       B.Scott                    270.0  4.090909    66"
      ]
     },
     "execution_count": 22,
     "metadata": {},
     "output_type": "execute_result"
    }
   ],
   "source": [
    "# 1. Filter with pbp_run_sb_yards[('rushing_yards', 'count')] > 20]\n",
    "# 2. Look at the results by sorting by `('rushing_yards', 'sum')`\n",
    "pbp_run_sb_yards.loc[pbp_run_sb_yards[('rushing_yards', 'count')] > 20].sort_values(('rushing_yards', 'sum'),\n",
    "                                                                                   ascending=[False])"
   ]
  },
  {
   "cell_type": "markdown",
   "id": "2591e304-7b87-4c07-8e1d-282c60ff27c7",
   "metadata": {},
   "source": [
    "Notice also that the leading rusher for the Chiefs is Isiah Pacheco, who is a seventh-round pick in the most-recent NFL draft out of Rutgers\n",
    "\n",
    "The Eagles' two leading rushers are their starting running back Miles Sanders and their quarterback Jalen Hurts.\n",
    "This is just a subset of Hurts' overall rushing performance, since he often \"scrambles\" on passing plays, which count as rushing yards even though they are the result of passing plays.\n",
    "\n",
    "Is this the end of the story? Give the time on the clock remaining for this live training, you can hopefully guess the answer."
   ]
  },
  {
   "cell_type": "markdown",
   "id": "9d104cb3-7806-44a3-88c6-738bb1097ca4",
   "metadata": {
    "tags": []
   },
   "source": [
    "## Rushing Yards Over Expected: Building linear model\n",
    "\n",
    "The winning solution to the 2020 [Big Data Bowl](https://operations.nfl.com/gameday/analytics/big-data-bowl/), an analytics competition held by the NFL each year, resulted in the construction of an expectation metric for rushing yardage that depended on a number of factors.\n",
    "From there, one can look at the residual between actual outcome an expected outcome - called rushing yards over expected (RYOE) for more insight into how well the rusher did relative to expectations.\n",
    "\n",
    "Here, we fit a simple linear model based only on the number of yards to go for a first down.\n",
    "Generally speaking, defenses play closer to the line of scrimmage when there are fewer yards to go, making rushing yardage harder to gain the closer `ydstogo` gets to 0.\n",
    "\n",
    "* Use the `smf.ols()` function with `rushing_yards` predicted by an intercept and `ydstogo`.\n",
    "* Use the input data `pbp_run`\n",
    "* Save the output as `yard_to_go`"
   ]
  },
  {
   "cell_type": "code",
   "execution_count": 23,
   "id": "0b035cd4-ed2a-48bc-b357-a3cf6e4f30b6",
   "metadata": {
    "tags": []
   },
   "outputs": [],
   "source": [
    "# use the smf.ols() with a formula and data\n",
    "yard_to_go = \\\n",
    "    smf.ols(\"rushing_yards ~ 1 + ydstogo\", data = pbp_run)"
   ]
  },
  {
   "cell_type": "markdown",
   "id": "dd779583-40ed-47ca-b069-28182d851291",
   "metadata": {
    "tags": []
   },
   "source": [
    "Next, extract the `fit()` and then `print()` the `summary()`:"
   ]
  },
  {
   "cell_type": "code",
   "execution_count": 24,
   "id": "3b34ecd2-51ab-4c27-aa27-d5d74f34b377",
   "metadata": {},
   "outputs": [
    {
     "name": "stdout",
     "output_type": "stream",
     "text": [
      "                            OLS Regression Results                            \n",
      "==============================================================================\n",
      "Dep. Variable:          rushing_yards   R-squared:                       0.007\n",
      "Model:                            OLS   Adj. R-squared:                  0.007\n",
      "Method:                 Least Squares   F-statistic:                     96.54\n",
      "Date:                Sun, 05 Feb 2023   Prob (F-statistic):           1.03e-22\n",
      "Time:                        15:57:57   Log-Likelihood:                -45653.\n",
      "No. Observations:               13995   AIC:                         9.131e+04\n",
      "Df Residuals:                   13993   BIC:                         9.132e+04\n",
      "Df Model:                           1                                         \n",
      "Covariance Type:            nonrobust                                         \n",
      "==============================================================================\n",
      "                 coef    std err          t      P>|t|      [0.025      0.975]\n",
      "------------------------------------------------------------------------------\n",
      "Intercept      3.3463      0.122     27.340      0.000       3.106       3.586\n",
      "ydstogo        0.1382      0.014      9.826      0.000       0.111       0.166\n",
      "==============================================================================\n",
      "Omnibus:                    11912.471   Durbin-Watson:                   1.990\n",
      "Prob(Omnibus):                  0.000   Jarque-Bera (JB):           478413.579\n",
      "Skew:                           3.924   Prob(JB):                         0.00\n",
      "Kurtosis:                      30.547   Cond. No.                         20.2\n",
      "==============================================================================\n",
      "\n",
      "Notes:\n",
      "[1] Standard Errors assume that the covariance matrix of the errors is correctly specified.\n"
     ]
    }
   ],
   "source": [
    "# extract fit and then print() the summary\n",
    "print(yard_to_go.fit().summary())"
   ]
  },
  {
   "cell_type": "markdown",
   "id": "40a4d979-0629-4956-a142-1e2fe42b9fe6",
   "metadata": {},
   "source": [
    "Notice that the coefficient for `ydstogo` is positive - a rusher is expected to gain more yards the further his team is from the first down market.\n",
    "Let's explore the outcome of this model.\n",
    "\n",
    "Lastly, create a new column, _run yards over expected_ or `ryoe` in `pbp_run` from `yard_to_go.fit().resid`:"
   ]
  },
  {
   "cell_type": "code",
   "execution_count": 26,
   "id": "6da62f99-0fbc-49c1-ae8d-2789a521960a",
   "metadata": {},
   "outputs": [],
   "source": [
    "# create ryoe column in pbp_run from the resid of yard_to_go.fit().resid\n",
    "pbp_run[\"ryoe\"] = \\\n",
    "    yard_to_go.fit().resid"
   ]
  },
  {
   "cell_type": "markdown",
   "id": "07b86967-180b-421e-9117-1ae2af537a8b",
   "metadata": {},
   "source": [
    "### RYOE for Super Bowl Rushers\n",
    "\n",
    "First, you will need to filter out only the two teams in the Super Bowl.\n",
    "You will results the object `sb_teams` from before, so you may need to go up and load this if you're jumping into the notebook now.\n",
    "To do the filter, use the same `isin()` function as before (the new data frame is called pbp_ryoe_sb to be different from the previously data frame created above):\n",
    "\n",
    "* Use `loc[]` with `pbp_run`\n",
    "* use `isin()` with `sb_teams` and the `posteam` column from `pbp_run`\n",
    "* Be sure to `reset_index()`\n",
    "* Save the new data frame as `pbp_ryoe_sb`"
   ]
  },
  {
   "cell_type": "code",
   "execution_count": 27,
   "id": "fe045093-773d-4e3f-8236-f178182084e6",
   "metadata": {
    "tags": []
   },
   "outputs": [],
   "source": [
    "# filter out sb teams to create pbp_ryoe_sb\n",
    "pbp_ryoe_sb = \\\n",
    "    pbp_run.loc[pbp_run[\"posteam\"].isin(sb_teams)].reset_index()"
   ]
  },
  {
   "cell_type": "markdown",
   "id": "a6d4816a-a095-4b02-a11b-12f6f7eacb68",
   "metadata": {
    "tags": []
   },
   "source": [
    "Next, use the same grouping used before to calculate each player's rushing yards (sum of rushing_yards), yards-per-carry (mean of rushing yards), total rushing ards over expected (TYOE; sum of RYOE), and average RYOE (mean of RYOE):"
   ]
  },
  {
   "cell_type": "code",
   "execution_count": 28,
   "id": "de3c1750-473b-4c64-bf88-53f0cb91ebd2",
   "metadata": {
    "tags": []
   },
   "outputs": [],
   "source": [
    "# 1. create pbp_ryoe_sb_yards\n",
    "# 2. use pbp_ryoe_sb\n",
    "# 3. group by [\"posteam\", \"rusher_player_id\", \"rusher_player_name\"]\n",
    "# 4. aggregate with \"rushing_yards\": [\"sum\", \"mean\"]\n",
    "#    as well as \"ryoe\": [\"sum\", \"mean\", \"count\"]\n",
    "pbp_ryoe_sb_yards = \\\n",
    "    pbp_ryoe_sb.groupby(\n",
    "        [\"posteam\", \"rusher_player_id\", \"rusher_player_name\"]).agg(\n",
    "    {\"rushing_yards\": [\"sum\", \"mean\"],\n",
    "     \"ryoe\": [\"sum\", \"mean\", \"count\"]})"
   ]
  },
  {
   "cell_type": "markdown",
   "id": "2fcff7b5-31a9-4e17-8c82-977f47d9fa59",
   "metadata": {},
   "source": [
    "Let's look at the play-level distributions of these players for guys with more than 20 carries during the course of the season.\n",
    "We include the cleaning code, because, while we spend most of our time cleaning data, we do not want this training to be a `pandas` session on cleaning data.\n",
    "\n",
    "We used the value 20 because we only want players who had a large number of players:\n",
    "First, clean up the column names to be easier to work with:"
   ]
  },
  {
   "cell_type": "code",
   "execution_count": 34,
   "id": "9303a36c-eda0-47df-a9e3-79071ee70993",
   "metadata": {},
   "outputs": [
    {
     "data": {
      "text/html": [
       "<div>\n",
       "<style scoped>\n",
       "    .dataframe tbody tr th:only-of-type {\n",
       "        vertical-align: middle;\n",
       "    }\n",
       "\n",
       "    .dataframe tbody tr th {\n",
       "        vertical-align: top;\n",
       "    }\n",
       "\n",
       "    .dataframe thead th {\n",
       "        text-align: right;\n",
       "    }\n",
       "</style>\n",
       "<table border=\"1\" class=\"dataframe\">\n",
       "  <thead>\n",
       "    <tr style=\"text-align: right;\">\n",
       "      <th></th>\n",
       "      <th>posteam</th>\n",
       "      <th>rusher_player_id</th>\n",
       "      <th>rusher_player_name</th>\n",
       "      <th>total rushing yards</th>\n",
       "      <th>yards per play</th>\n",
       "      <th>TYOE</th>\n",
       "      <th>average RYOE</th>\n",
       "      <th>carries</th>\n",
       "    </tr>\n",
       "  </thead>\n",
       "  <tbody>\n",
       "    <tr>\n",
       "      <th>4</th>\n",
       "      <td>PHI</td>\n",
       "      <td>00-0035243</td>\n",
       "      <td>M.Sanders</td>\n",
       "      <td>1401.0</td>\n",
       "      <td>4.881533</td>\n",
       "      <td>127.009855</td>\n",
       "      <td>0.442543</td>\n",
       "      <td>287</td>\n",
       "    </tr>\n",
       "    <tr>\n",
       "      <th>2</th>\n",
       "      <td>KC</td>\n",
       "      <td>00-0037197</td>\n",
       "      <td>I.Pacheco</td>\n",
       "      <td>951.0</td>\n",
       "      <td>4.953125</td>\n",
       "      <td>95.526355</td>\n",
       "      <td>0.497533</td>\n",
       "      <td>192</td>\n",
       "    </tr>\n",
       "    <tr>\n",
       "      <th>6</th>\n",
       "      <td>PHI</td>\n",
       "      <td>00-0036919</td>\n",
       "      <td>K.Gainwell</td>\n",
       "      <td>400.0</td>\n",
       "      <td>5.063291</td>\n",
       "      <td>60.317066</td>\n",
       "      <td>0.763507</td>\n",
       "      <td>79</td>\n",
       "    </tr>\n",
       "    <tr>\n",
       "      <th>5</th>\n",
       "      <td>PHI</td>\n",
       "      <td>00-0036389</td>\n",
       "      <td>J.Hurts</td>\n",
       "      <td>521.0</td>\n",
       "      <td>4.378151</td>\n",
       "      <td>29.635937</td>\n",
       "      <td>0.249041</td>\n",
       "      <td>119</td>\n",
       "    </tr>\n",
       "    <tr>\n",
       "      <th>1</th>\n",
       "      <td>KC</td>\n",
       "      <td>00-0036360</td>\n",
       "      <td>C.Edwards-Helaire</td>\n",
       "      <td>302.0</td>\n",
       "      <td>4.253521</td>\n",
       "      <td>-9.115828</td>\n",
       "      <td>-0.128392</td>\n",
       "      <td>71</td>\n",
       "    </tr>\n",
       "    <tr>\n",
       "      <th>3</th>\n",
       "      <td>PHI</td>\n",
       "      <td>00-0034414</td>\n",
       "      <td>B.Scott</td>\n",
       "      <td>270.0</td>\n",
       "      <td>4.090909</td>\n",
       "      <td>-21.758326</td>\n",
       "      <td>-0.329672</td>\n",
       "      <td>66</td>\n",
       "    </tr>\n",
       "    <tr>\n",
       "      <th>0</th>\n",
       "      <td>KC</td>\n",
       "      <td>00-0031376</td>\n",
       "      <td>J.McKinnon</td>\n",
       "      <td>317.0</td>\n",
       "      <td>3.643678</td>\n",
       "      <td>-72.258332</td>\n",
       "      <td>-0.830556</td>\n",
       "      <td>87</td>\n",
       "    </tr>\n",
       "  </tbody>\n",
       "</table>\n",
       "</div>"
      ],
      "text/plain": [
       "  posteam rusher_player_id rusher_player_name  total rushing yards  \\\n",
       "4     PHI       00-0035243          M.Sanders               1401.0   \n",
       "2      KC       00-0037197          I.Pacheco                951.0   \n",
       "6     PHI       00-0036919         K.Gainwell                400.0   \n",
       "5     PHI       00-0036389            J.Hurts                521.0   \n",
       "1      KC       00-0036360  C.Edwards-Helaire                302.0   \n",
       "3     PHI       00-0034414            B.Scott                270.0   \n",
       "0      KC       00-0031376         J.McKinnon                317.0   \n",
       "\n",
       "   yards per play        TYOE  average RYOE  carries  \n",
       "4        4.881533  127.009855      0.442543      287  \n",
       "2        4.953125   95.526355      0.497533      192  \n",
       "6        5.063291   60.317066      0.763507       79  \n",
       "5        4.378151   29.635937      0.249041      119  \n",
       "1        4.253521   -9.115828     -0.128392       71  \n",
       "3        4.090909  -21.758326     -0.329672       66  \n",
       "0        3.643678  -72.258332     -0.830556       87  "
      ]
     },
     "execution_count": 34,
     "metadata": {},
     "output_type": "execute_result"
    }
   ],
   "source": [
    "# first, flatten the columns of pbp_ryoe_sb_yards\n",
    "pbp_ryoe_sb_yards.columns = list(map(''.join, pbp_ryoe_sb_yards.columns.values))\n",
    "\n",
    "# Then rename columns\n",
    "pbp_ryoe_sb_yards.rename(\n",
    "    {'rushing_yardssum': 'total rushing yards',\n",
    "     'rushing_yardsmean': 'yards per play',\n",
    "     'ryoesum': 'TYOE',\n",
    "     'ryoemean': 'average RYOE',\n",
    "     'ryoecount': 'carries'\n",
    "      }, axis=1, inplace=True)\n",
    "\n",
    "# Query for carries >= 20\n",
    "pbp_ryoe_sb_yards_20 = \\\n",
    "    pbp_ryoe_sb_yards.query('carries >= 20').reset_index()\n",
    "\n",
    "# Sort values by TYOE, ascending=False\n",
    "pbp_ryoe_sb_yards_20.sort_values('TYOE', ascending=False)"
   ]
  },
  {
   "cell_type": "markdown",
   "id": "aa756828-401f-4fa5-b6cb-9f1239ef909b",
   "metadata": {},
   "source": [
    "Notice that while Pacheo was close to Sanders in terms of yards per carry, and trailed him in total rushing yards, he is pretty close to him in total RYOE and is much better than he is in average RYOE per carry. "
   ]
  },
  {
   "cell_type": "markdown",
   "id": "3b70f869-a2e6-438c-bf79-1e9a10acbcd4",
   "metadata": {},
   "source": [
    "Now, let's look at the data.\n",
    "First, we need to extract the top players for the superbowl.\n",
    "To do this,\n",
    "\n",
    "1. Create `pbp_run_sb_20`\n",
    "2. Use the `pbp_run` data\n",
    "3. Filter using `.loc[]` with `pbp_run['rusher_player_id']` by `.isin(pbp_ryoe_sb_yards_20.rusher_player_id.unique())`"
   ]
  },
  {
   "cell_type": "code",
   "execution_count": 35,
   "id": "52dde2ef-6e5e-41fc-a38d-478d2a9fd7af",
   "metadata": {},
   "outputs": [],
   "source": [
    "# Filter out only players with more than 20 carries\n",
    "pbp_run_sb_20 = pbp_run.loc[pbp_run['rusher_player_id'].isin(pbp_ryoe_sb_yards_20.rusher_player_id.unique())]"
   ]
  },
  {
   "cell_type": "markdown",
   "id": "7eab6aa5-46ca-43d6-a428-5ab49ce34807",
   "metadata": {},
   "source": [
    "We'll use a `seaborn` boxplot for each player:"
   ]
  },
  {
   "cell_type": "code",
   "execution_count": 36,
   "id": "6c0b6c92-4d52-4adf-af32-14357dbeef58",
   "metadata": {},
   "outputs": [
    {
     "data": {
      "image/png": "[encoded data removed]",
      "text/plain": [
       "<Figure size 640x480 with 1 Axes>"
      ]
     },
     "metadata": {},
     "output_type": "display_data"
    }
   ],
   "source": [
    "# Use sns boxplot\n",
    "# x is ryoe, y is rusher_player_name, hue is posteam, data is pbp_run_sb_20\n",
    "sns.boxplot(x = \"ryoe\", y = \"rusher_player_name\", hue = \"posteam\", data = pbp_run_sb_20);"
   ]
  },
  {
   "cell_type": "markdown",
   "id": "9b58a556-099b-45f6-8774-a5e5d88be0d4",
   "metadata": {},
   "source": [
    "Notice that, while Jerick McKinnon has scored 83 touchdowns for the Chiefs this year, he's actually struggled running the back relative to expectations pre-snap.\n",
    "Former first-round pick Clyde Edwards-Helaire has ails well, with a negative RYOE, which opened the door for seventh-round pick Pacheco to shine."
   ]
  },
  {
   "cell_type": "markdown",
   "id": "640315d2-758a-448c-b97a-31144d623267",
   "metadata": {},
   "source": [
    "### Conclusions for simple model\n",
    "\n",
    "What have we learned from this simple modeling exercise?\n",
    "\n",
    "* Rushing yards over expected is right skewed! \n",
    "* Sanders and Pacheco have shined, while Scott, Edwards-Helaire and McKinnon have struggled\n",
    "* Much of data science, even with \"package\" data still requires data wrangling!\n",
    "\n",
    "While anything can happen in Sunday's game, watch out for Sanders and Pacheco.\n",
    "\n",
    "Lastly, check out our forthcoming book, [Football Analytics with Python & R](https://learning.oreilly.com/library/view/football-analytics-with/9781492099611/]) or our DataCamp courses to learn about [Linear Algebra in R](https://app.datacamp.com/learn/courses/linear-algebra-for-data-science-in-r), [Hierarchical and Mixed-effect Models in R](https://app.datacamp.com/learn/courses/hierarchical-and-mixed-effects-models-in-r), or [Generalized Linear Models in R](https://app.datacamp.com/learn/courses/generalized-linear-models-in-r).\n",
    "And feel free to follow Eric on [Twitter](https://twitter.com/ericeager__) or [LinkedIn](https://www.linkedin.com/in/eric-eager-31a2a220) and Richard on [LinkedIn](https://www.linkedin.com/in/raerickson)."
   ]
  },
  {
   "cell_type": "markdown",
   "id": "4579e586-7855-471c-934d-46ba75ee0e5b",
   "metadata": {},
   "source": [
    "## Q and A\n",
    "\n",
    "Questions?"
   ]
  },
  {
   "cell_type": "markdown",
   "id": "4c1405d2-3b15-4bd7-a8e0-74a26682c5fa",
   "metadata": {},
   "source": [
    "### Multiple Regression"
   ]
  },
  {
   "cell_type": "markdown",
   "id": "8d45df22-d178-4752-b9e2-93d0241b2dd1",
   "metadata": {},
   "source": [
    "But, what about a more complex model? Can you do better at predicting?\n",
    "As a bonus, we include the code for a more complicated model.\n",
    "\n",
    "We have more powerful tools in our toolbox compared to a simple linear regression.\n",
    "A next logical step would be to use multiple predictor variables and use a multiple regression.\n",
    "There are other things that go into expected rushing success.\n",
    "For example, which down it is?, how many yards the team has to go to reach the end zone?, what is the run direction?, what is the score differential? how much time is remaining?\n",
    "\n",
    "Depending upon the purpose of the extra variables, you might say you are _correcting_ for other predictors (a term commonly used in the medical field, for example, when Richie Cotton worked at a Medical College he would have used the term).\n",
    "Or, we may want to simply include multiple predictors.\n",
    "However, this added realism comes at a trade-off of complexity.\n",
    "\n",
    "If you are joining us late, please make sure you load the data from the previous part of the tutorial.\n",
    "First, reformat `down` to be a string.\n",
    "This will cause Python's regression to treat `down` as a category, rather than an a continuous predictor:"
   ]
  },
  {
   "cell_type": "code",
   "execution_count": null,
   "id": "2bbaf4e2-784b-4506-8b47-dfeabd136140",
   "metadata": {},
   "outputs": [],
   "source": [
    "# Convert down from pbp_run to be a string using astype(str)\n",
    "pbp_run[\"down\"] = pbp_run[\"down\"].astype(str)"
   ]
  },
  {
   "cell_type": "markdown",
   "id": "b8783a8c-cf21-4785-b5b0-871455842620",
   "metadata": {},
   "source": [
    "Next, let's build a model and examine the fit's summary.\n",
    "Because the formula is long, define it first to make your code easier to read:"
   ]
  },
  {
   "cell_type": "code",
   "execution_count": null,
   "id": "3aa56d47-b423-4762-8e52-d68dd30fe31c",
   "metadata": {},
   "outputs": [],
   "source": [
    "# include \"rushing_yards ~ 1 + ydstogo + down + yardline_100 + run_location + score_differential + game_seconds_remaining\"\n",
    "m1_formula = \"rushing_yards ~ 1 + ydstogo + down + yardline_100 + run_location + score_differential + game_seconds_remaining\""
   ]
  },
  {
   "cell_type": "code",
   "execution_count": null,
   "id": "2727c709-45d6-4c50-a0fa-4cbf8e38d913",
   "metadata": {},
   "outputs": [],
   "source": [
    "# next build the model, extract the fit, and print the summary\n",
    "model_1 = \\\n",
    "    smf.ols(formula = m1_formula, data = pbp_run)\n",
    "model_1_fit = model_1.fit()\n",
    "print(model_1_fit.summary())"
   ]
  },
  {
   "cell_type": "markdown",
   "id": "5fcac9b2-597c-42fc-8ce1-be4b502456cf",
   "metadata": {},
   "source": [
    "Now, extract out RYOE, similar to and calculate the same summaries as before:"
   ]
  },
  {
   "cell_type": "code",
   "execution_count": null,
   "id": "68a3face-c7bd-415c-bfa0-2cebc16f8d59",
   "metadata": {},
   "outputs": [],
   "source": [
    "# extract out the residual from model 1\n",
    "pbp_run[\"ryoe_m1\"] = model_1_fit.resid\n",
    "\n",
    "# use .loc to extract out the sb_teams\n",
    "pbp_ryoe_sb = pbp_run.loc[pbp_run['posteam'].isin(sb_teams)].reset_index()\n",
    "\n",
    "# group by [\"posteam\", \"rusher_player_id\", \"rusher_player_name\"]\n",
    "# aggregate with a dictionary\n",
    "#    {\"rushing_yards\": [\"sum\", \"mean\"],\n",
    "#     \"ryoe\": [\"sum\", \"mean\"],\n",
    "#     \"ryoe_m1\": [\"sum\", \"mean\", \"count\"]})\n",
    "\n",
    "pbp_ryoe_sb_yards = \\\n",
    "    pbp_ryoe_sb.groupby(\n",
    "    [\"posteam\", \"rusher_player_id\", \"rusher_player_name\"]).agg(\n",
    "    {\"rushing_yards\": [\"sum\", \"mean\"],\n",
    "     \"ryoe\": [\"sum\", \"mean\"],\n",
    "     \"ryoe_m1\": [\"sum\", \"mean\", \"count\"]})\n",
    "\n",
    "# Filter to create top players with >20 plays data frame\n",
    "pbp_ryoe_sb_yards_20 = \\\n",
    "    pbp_ryoe_sb_yards.loc[pbp_ryoe_sb_yards[('ryoe_m1', 'count')] > 20]\n",
    "\n",
    "# sort and print outputs\n",
    "pbp_ryoe_sb_yards_20.sort_values(\n",
    "    ('ryoe_m1',   'sum'),\n",
    "    ascending=[False])"
   ]
  },
  {
   "cell_type": "markdown",
   "id": "aa00616f-709d-486a-aca3-5927acffafa6",
   "metadata": {},
   "source": [
    "Next, filter for only players with more than 20 players."
   ]
  },
  {
   "cell_type": "code",
   "execution_count": null,
   "id": "2136c79c-bd98-4177-85d4-8631b744144b",
   "metadata": {},
   "outputs": [],
   "source": [
    "pbp_ryoe_sb_20 = \\\n",
    "    pbp_ryoe_sb[pbp_ryoe_sb['rusher_player_id'\n",
    "                           ].isin(pbp_ryoe_sb_yards_20.reset_index().rusher_player_id.unique())]"
   ]
  },
  {
   "cell_type": "code",
   "execution_count": null,
   "id": "a7aaaa41-3ae6-4df2-93c0-0aeac4fac873",
   "metadata": {},
   "outputs": [],
   "source": [
    "pbp_ryoe_sb_20 "
   ]
  },
  {
   "cell_type": "markdown",
   "id": "91093d10-fa41-406c-a0bc-03de43cc7ea9",
   "metadata": {},
   "source": [
    "The data requires one more manipulation, a melt, before the boxplot:"
   ]
  },
  {
   "cell_type": "code",
   "execution_count": null,
   "id": "c6b302bc-c1ab-45e6-acd3-ca7ea2ccb794",
   "metadata": {},
   "outputs": [],
   "source": [
    "# melt \n",
    "pbp_ryoe_sb_20_long = \\\n",
    "    pd.melt(pbp_ryoe_sb_20 [['posteam', 'rusher_player_id', 'rusher_player_name', 'ryoe', 'ryoe_m1']].reset_index(),\n",
    "            id_vars=['posteam', 'rusher_player_id', 'rusher_player_name'],\n",
    "            value_vars=['ryoe', 'ryoe_m1'],\n",
    "            var_name = 'model',\n",
    "            value_name = 'RYOE')"
   ]
  },
  {
   "cell_type": "code",
   "execution_count": null,
   "id": "64eda7ee-38f5-424d-b2f7-87eb8ae0312e",
   "metadata": {},
   "outputs": [],
   "source": [
    "# sns boxplot\n",
    "sns.boxplot(data=pbp_ryoe_sb_20_long, \n",
    "            x='RYOE',\n",
    "            y='rusher_player_name',\n",
    "            hue = 'model');"
   ]
  },
  {
   "cell_type": "markdown",
   "id": "325c590a-c62e-4e08-98a2-77f0222bd6a2",
   "metadata": {},
   "source": [
    "Notice here that results are largely the same."
   ]
  },
  {
   "cell_type": "markdown",
   "id": "ee6139fc-6f70-4669-b2f5-1cd41dbb70ad",
   "metadata": {},
   "source": [
    "# Conclusion\n",
    "\n",
    "In this training session we looked at real National Football League play-by-play data to gain insights into the running game for Super Bowl LVII.\n",
    "\n",
    "You saw how a multiple regression produced similar, but slightly different results than the simple regression.\n",
    "As a data scientist, which model would you use?\n",
    "Conversely, if you had to explain the model as a football analysts on live TV or radio, which model would you use?"
   ]
  }
 ],
 "metadata": {
  "kernelspec": {
   "display_name": "Python 3 (ipykernel)",
   "language": "python",
   "name": "python3"
  },
  "language_info": {
   "codemirror_mode": {
    "name": "ipython",
    "version": 3
   },
   "file_extension": ".py",
   "mimetype": "text/x-python",
   "name": "python",
   "nbconvert_exporter": "python",
   "pygments_lexer": "ipython3",
   "version": "3.10.8"
  },
  "vscode": {
   "interpreter": {
    "hash": "31f2aee4e71d21fbe5cf8b01ff0e069b9275f58929596ceb00d14d90e3e16cd6"
   }
  }
 },
 "nbformat": 4,
 "nbformat_minor": 5
}
